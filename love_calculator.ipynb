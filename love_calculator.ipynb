{
  "nbformat": 4,
  "nbformat_minor": 0,
  "metadata": {
    "colab": {
      "provenance": [],
      "authorship_tag": "ABX9TyP1YzrHrB1k+MXdgXKTSos6",
      "include_colab_link": true
    },
    "kernelspec": {
      "name": "python3",
      "display_name": "Python 3"
    },
    "language_info": {
      "name": "python"
    }
  },
  "cells": [
    {
      "cell_type": "markdown",
      "metadata": {
        "id": "view-in-github",
        "colab_type": "text"
      },
      "source": [
        "<a href=\"https://colab.research.google.com/github/fahad-al-jobayer/python_projects/blob/main/love_calculator.ipynb\" target=\"_parent\"><img src=\"https://colab.research.google.com/assets/colab-badge.svg\" alt=\"Open In Colab\"/></a>"
      ]
    },
    {
      "cell_type": "code",
      "execution_count": null,
      "metadata": {
        "colab": {
          "base_uri": "https://localhost:8080/"
        },
        "id": "dTD5x37bVUw9",
        "outputId": "dd092847-4513-4c29-fc5d-7427d4846fc7"
      },
      "outputs": [
        {
          "output_type": "stream",
          "name": "stdout",
          "text": [
            ">>>welcome to love calculator<<<\n",
            "what is your name?\n",
            "hossain muntasir jubair\n",
            "what is his/her name?\n",
            "saymadeen tabassum authoi\n",
            "your love score is 114%. you go together like coke and mentos.\n"
          ]
        }
      ],
      "source": [
        "print(\">>>welcome to love calculator<<<\")\n",
        "n1 = input(\"what is your name?\\n\")\n",
        "n2 = input(\"what is his/her name?\\n\")\n",
        "name1 = n1.lower()\n",
        "name2 = n2.lower()\n",
        "#true\n",
        "a = name1.count('t')\n",
        "b = name2.count('t')\n",
        "c = name1.count('r')\n",
        "d = name2.count('r')\n",
        "e = name1.count('u')\n",
        "f = name2.count('u')\n",
        "g = name1.count('e')\n",
        "h = name2.count('e')\n",
        "#love\n",
        "i = name1.count('l')\n",
        "j = name2.count('l')\n",
        "k = name1.count('o')\n",
        "l = name2.count('o')\n",
        "m = name1.count('v')\n",
        "n = name2.count('v')\n",
        "o = name1.count('e')\n",
        "p = name2.count('e')\n",
        "\n",
        "add1 = a+b+c+d+e+f+g+h\n",
        "add2 = i+j+k+l+m+n+o+p\n",
        "score = str(add1) + str(add2)\n",
        "\n",
        "if int(score) < 10 or int(score) > 90:\n",
        "  print(f\"your love score is {score}%. you go together like coke and mentos.\")\n",
        "\n",
        "elif int(score) >= 45 and int(score) <= 55:\n",
        "  print(f\"your love score is {score}%. you are alright together.\")\n",
        "\n",
        "else:\n",
        "  print(f\"your love score is {score}%.\")"
      ]
    }
  ]
}