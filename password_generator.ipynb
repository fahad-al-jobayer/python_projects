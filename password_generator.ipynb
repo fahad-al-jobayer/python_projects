{
  "nbformat": 4,
  "nbformat_minor": 0,
  "metadata": {
    "colab": {
      "provenance": [],
      "authorship_tag": "ABX9TyPsiKeJNou9H4b7/Z2J4/vF",
      "include_colab_link": true
    },
    "kernelspec": {
      "name": "python3",
      "display_name": "Python 3"
    },
    "language_info": {
      "name": "python"
    }
  },
  "cells": [
    {
      "cell_type": "markdown",
      "metadata": {
        "id": "view-in-github",
        "colab_type": "text"
      },
      "source": [
        "<a href=\"https://colab.research.google.com/github/fahad-al-jobayer/python_projects/blob/main/password_generator.ipynb\" target=\"_parent\"><img src=\"https://colab.research.google.com/assets/colab-badge.svg\" alt=\"Open In Colab\"/></a>"
      ]
    },
    {
      "cell_type": "code",
      "execution_count": 3,
      "metadata": {
        "id": "AOiNaJiDJRu2",
        "colab": {
          "base_uri": "https://localhost:8080/"
        },
        "outputId": "265494aa-02ae-4262-8327-b60bbc40dadb"
      },
      "outputs": [
        {
          "output_type": "stream",
          "name": "stdout",
          "text": [
            "Welcome to the PyPassword Generator!\n",
            "How many letters would you like in your password\n",
            "6\n",
            "How many symbols would you like?\n",
            "7\n",
            "How many numbers would you like?\n",
            "5\n",
            "password: 318[O_:6a-l?05gc+F%\n"
          ]
        }
      ],
      "source": [
        "import random\n",
        "import string\n",
        "\n",
        "letters = list(string.ascii_letters)\n",
        "numbers = ['1', '2', '3', '4', '5', '6', '7', '8', '9', '10']\n",
        "symbols = ['!', '@', '#', '$', '%', '^', '&', '*', '(', ')', '_', '+', '-', '=', '[', ']', '{', '}', '|', ';', ':', ',', '.', '<', '>', '/', '?']\n",
        "\n",
        "print (\"Welcome to the PyPassword Generator!\" )\n",
        "\n",
        "\n",
        "nr_letters = int(input(\"How many letters would you like in your password\\n\"))\n",
        "nr_symbols = int(input(\"How many symbols would you like?\\n\"))\n",
        "nr_numbers = int(input(\"How many numbers would you like?\\n\"))\n",
        "\n",
        "\n",
        "pas= []\n",
        "for i in range(nr_letters):\n",
        "  pas.append (random.choice(letters))\n",
        "\n",
        "for j in range(nr_symbols):\n",
        "  pas += random.choice(symbols)\n",
        "\n",
        "for k in range(nr_numbers):\n",
        "  pas += random.choice(numbers)\n",
        "\n",
        "random.shuffle(pas)\n",
        "\n",
        "password = ''\n",
        "for e in pas:\n",
        "  password += e\n",
        "\n",
        "print(f\"password: {password}\")"
      ]
    }
  ]
}