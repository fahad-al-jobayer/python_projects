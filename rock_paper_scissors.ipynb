{
  "nbformat": 4,
  "nbformat_minor": 0,
  "metadata": {
    "colab": {
      "provenance": [],
      "authorship_tag": "ABX9TyOySvkcPTf4YSptORE4kSFm",
      "include_colab_link": true
    },
    "kernelspec": {
      "name": "python3",
      "display_name": "Python 3"
    },
    "language_info": {
      "name": "python"
    }
  },
  "cells": [
    {
      "cell_type": "markdown",
      "metadata": {
        "id": "view-in-github",
        "colab_type": "text"
      },
      "source": [
        "<a href=\"https://colab.research.google.com/github/fahad-al-jobayer/python_projects/blob/main/rock_paper_scissors.ipynb\" target=\"_parent\"><img src=\"https://colab.research.google.com/assets/colab-badge.svg\" alt=\"Open In Colab\"/></a>"
      ]
    },
    {
      "cell_type": "code",
      "execution_count": 3,
      "metadata": {
        "colab": {
          "base_uri": "https://localhost:8080/"
        },
        "id": "2McFp6W_qvx5",
        "outputId": "4897d922-1fbc-4062-842a-24558975b409"
      },
      "outputs": [
        {
          "output_type": "stream",
          "name": "stdout",
          "text": [
            "What do you choose? Type 0 for Rock, 1 for Paper or 2 for Scissors.\n",
            "2\n",
            "you choose \n",
            " \n",
            "\n",
            "       ______\n",
            "_____,' _____)_______\n",
            "          ___________)\n",
            "          ____________)\n",
            "___      (______)\n",
            "   ';,___(_____)\n",
            "\n",
            "\n",
            "computer choose \n",
            " \n",
            "       ______\n",
            "_____,' _____)_______\n",
            "          ___________)\n",
            "          ____________)\n",
            "___      ___________)\n",
            "   ';,__________)\n",
            "\n",
            "\n",
            "you win\n"
          ]
        }
      ],
      "source": [
        "import random\n",
        "\n",
        "rock= '''\n",
        "       _____\n",
        "_____,' ____)_\n",
        "        (_____)\n",
        "        (______)\n",
        "____    (_____)\n",
        "    ';__(____)\n",
        "\n",
        "'''\n",
        "paper= '''\n",
        "       ______\n",
        "_____,' _____)_______\n",
        "          ___________)\n",
        "          ____________)\n",
        "___      ___________)\n",
        "   ';,__________)\n",
        "\n",
        "'''\n",
        "scissors= '''\n",
        "\n",
        "       ______\n",
        "_____,' _____)_______\n",
        "          ___________)\n",
        "          ____________)\n",
        "___      (______)\n",
        "   ';,___(_____)\n",
        "\n",
        "'''\n",
        "\n",
        "choice = int(input(\"What do you choose? Type 0 for Rock, 1 for Paper or 2 for Scissors.\\n\"))\n",
        "\n",
        "if choice == 0:\n",
        "  print(f\"you choose \\n {rock}\")\n",
        "elif choice == 1:\n",
        "  print(f\"you choose \\n {paper}\")\n",
        "elif choice == 2:\n",
        "  print(f\"you choose \\n {scissors}\")\n",
        "else:\n",
        "  print(\"your choice is invalid\")\n",
        "\n",
        "choice_list = ['rock', 'paper', 'scissors']\n",
        "computer_choice = random.choice(choice_list)\n",
        "\n",
        "if computer_choice == 'rock':\n",
        "  print(f\"computer choose \\n {rock}\")\n",
        "if computer_choice == 'paper':\n",
        "  print(f\"computer choose \\n {paper}\")\n",
        "if computer_choice == 'scissors':\n",
        "  print(f\"computer choose \\n {scissors}\")\n",
        "\n",
        "if choice == 0 and computer_choice == 'rock':\n",
        "  print(\"draw\")\n",
        "elif choice == 0 and computer_choice == 'paper':\n",
        "  print('you lose')\n",
        "elif choice == 0 and computer_choice == 'scissors':\n",
        "  print('you win')\n",
        "\n",
        "if choice == 1 and computer_choice == 'rock':\n",
        "  print('you win')\n",
        "elif choice == 1 and computer_choice == 'paper':\n",
        "  print(\"draw\")\n",
        "elif choice == 1 and computer_choice == 'scissors':\n",
        "  print('you lose')\n",
        "\n",
        "if choice == 2 and computer_choice == 'rock':\n",
        "  print('you lose')\n",
        "elif choice == 2 and computer_choice == 'paper':\n",
        "  print('you win')\n",
        "elif choice == 2 and computer_choice == 'scissors':\n",
        "  print(\"draw\")"
      ]
    }
  ]
}